{
 "metadata": {
  "language_info": {
   "codemirror_mode": {
    "name": "ipython",
    "version": 3
   },
   "file_extension": ".py",
   "mimetype": "text/x-python",
   "name": "python",
   "nbconvert_exporter": "python",
   "pygments_lexer": "ipython3",
   "version": "3.8.5"
  },
  "orig_nbformat": 4,
  "kernelspec": {
   "name": "python3",
   "display_name": "Python 3.8.5 64-bit ('base': conda)"
  },
  "interpreter": {
   "hash": "dca0ade3e726a953b501b15e8e990130d2b7799f14cfd9f4271676035ebe5511"
  }
 },
 "nbformat": 4,
 "nbformat_minor": 2,
 "cells": [
  {
   "cell_type": "code",
   "execution_count": 1,
   "source": [
    "from libs import browser_init, insta_login\n",
    "import pandas as pd \n",
    "import numpy as np\n",
    "import os \n",
    "import sys\n",
    "from datetime import datetime\n",
    "from pathlib import Path\n"
   ],
   "outputs": [
    {
     "output_type": "stream",
     "name": "stdout",
     "text": [
      "everything ok\n"
     ]
    }
   ],
   "metadata": {}
  },
  {
   "cell_type": "code",
   "execution_count": 2,
   "source": [
    "browser = browser_init()\n",
    "insta_login(browser)"
   ],
   "outputs": [],
   "metadata": {}
  },
  {
   "cell_type": "code",
   "execution_count": null,
   "source": [
    "browser.get('https://www.instagram.com/vazirgroupuae/')\n",
    "for elem in browser.find_elements_by_xpath('//li[@class = \"Y8-fY \"]'):\n",
    "    print(f'elem.text: {elem.text}')\n",
    "    print(f'elem.text.type: {type(elem.text)}')\n",
    "    try:\n",
    "        elem = elem.text.split(' ')\n",
    "        for i in range(len(elem)):\n",
    "            print('elem[{0}]: {1}'.format(i, elem[i]))\n",
    "    except Exception as e:\n",
    "        print(e)"
   ],
   "outputs": [],
   "metadata": {}
  },
  {
   "cell_type": "code",
   "execution_count": 3,
   "source": [
    "df = pd.DataFrame(columns=['Date','Page','Post_Count','Follower_Count','Following_Count'])\n",
    "df.head()"
   ],
   "outputs": [
    {
     "output_type": "execute_result",
     "data": {
      "text/html": [
       "<div>\n",
       "<style scoped>\n",
       "    .dataframe tbody tr th:only-of-type {\n",
       "        vertical-align: middle;\n",
       "    }\n",
       "\n",
       "    .dataframe tbody tr th {\n",
       "        vertical-align: top;\n",
       "    }\n",
       "\n",
       "    .dataframe thead th {\n",
       "        text-align: right;\n",
       "    }\n",
       "</style>\n",
       "<table border=\"1\" class=\"dataframe\">\n",
       "  <thead>\n",
       "    <tr style=\"text-align: right;\">\n",
       "      <th></th>\n",
       "      <th>Date</th>\n",
       "      <th>Page</th>\n",
       "      <th>Post_Count</th>\n",
       "      <th>Follower_Count</th>\n",
       "      <th>Following_Count</th>\n",
       "    </tr>\n",
       "  </thead>\n",
       "  <tbody>\n",
       "  </tbody>\n",
       "</table>\n",
       "</div>"
      ],
      "text/plain": [
       "Empty DataFrame\n",
       "Columns: [Date, Page, Post_Count, Follower_Count, Following_Count]\n",
       "Index: []"
      ]
     },
     "metadata": {},
     "execution_count": 3
    }
   ],
   "metadata": {}
  },
  {
   "cell_type": "code",
   "execution_count": 7,
   "source": [
    "dct={}\n",
    "dir = Path(__name__).resolve().parents[1]\n",
    "dir= str(dir)+'/data_repo/Comp_insta.xlsx'\n",
    "\n",
    "def load_data(dir):\n",
    "    sheet = pd.read_excel(dir,engine='openpyxl')\n",
    "    return sheet\n",
    "\n",
    "sheet = load_data(dir)\n",
    "\n",
    "for index in range(sheet.shape[0]):\n",
    "    name=sheet.iloc[index,0]\n",
    "    page=sheet.iloc[index,1]\n",
    "    dct[name]=page\n",
    "    print(sheet.iloc[index,0],sheet.iloc[index,1])\n",
    "\n",
    "print(dct)"
   ],
   "outputs": [
    {
     "output_type": "stream",
     "name": "stdout",
     "text": [
      "global migration services https://www.instagram.com/globalmigrationservices/\n",
      "CanApprove https://www.instagram.com/canapprove/\n",
      "DM Immigration Consultants https://www.instagram.com/dm_consultantsgcc/\n",
      "Pelican Migration Consultants https://www.instagram.com/pelicanmigrationconsultants/?hl=en\n",
      "Vazir Group https://www.instagram.com/vazirgroupuae/\n",
      "Quantis migration https://www.instagram.com/quantis_consultants/\n",
      "Y-axis nan\n",
      "Reliance Immigration Services https://www.instagram.com/reliancemigration/\n",
      "Can-Quest https://www.instagram.com/canquestinternational/?hl=en\n",
      "Quantis Consultants https://www.instagram.com/quantis_consultants/?hl=en\n",
      "ACE Migration Services https://www.instagram.com/acemigrationservices/\n",
      "Cosmos Immigration https://www.instagram.com/cosmos_immigration_dubai/\n",
      "immigrationca https://www.instagram.com/immigrationca/\n",
      "nan nan\n",
      "nan nan\n",
      "nan nan\n",
      "{'global migration services': 'https://www.instagram.com/globalmigrationservices/', 'CanApprove': 'https://www.instagram.com/canapprove/', 'DM Immigration Consultants': 'https://www.instagram.com/dm_consultantsgcc/', 'Pelican Migration Consultants': 'https://www.instagram.com/pelicanmigrationconsultants/?hl=en', 'Vazir Group': 'https://www.instagram.com/vazirgroupuae/', 'Quantis migration': 'https://www.instagram.com/quantis_consultants/', 'Y-axis': nan, 'Reliance Immigration Services': 'https://www.instagram.com/reliancemigration/', 'Can-Quest': 'https://www.instagram.com/canquestinternational/?hl=en', 'Quantis Consultants': 'https://www.instagram.com/quantis_consultants/?hl=en', 'ACE Migration Services': 'https://www.instagram.com/acemigrationservices/', 'Cosmos Immigration': 'https://www.instagram.com/cosmos_immigration_dubai/', 'immigrationca': 'https://www.instagram.com/immigrationca/', nan: nan}\n"
     ]
    }
   ],
   "metadata": {}
  },
  {
   "cell_type": "code",
   "execution_count": null,
   "source": [
    "data = {}\n",
    "for name, page in dct.items():\n",
    "    print(f'Getting page: {page}')\n",
    "    try:\n",
    "        browser.get(page)\n",
    "        data[name]={}\n",
    "        data[name]['date']= datetime.now()\n",
    "        for elem in browser.find_elements_by_xpath('//li[@class = \"Y8-fY \"]'):\n",
    "            print(f'elem.text: {elem.text}')\n",
    "            try:\n",
    "                elem = elem.text.split(' ')\n",
    "                data[name][elem[1]]=elem[0]\n",
    "                print(f'appended: {data[name][elem[1]]}')\n",
    "            except Exception as e:\n",
    "                print(e)\n",
    "    except Exception as e:\n",
    "        print(e)\n",
    "        pass\n",
    "        "
   ],
   "outputs": [],
   "metadata": {}
  },
  {
   "cell_type": "code",
   "execution_count": null,
   "source": [
    "print(data)"
   ],
   "outputs": [],
   "metadata": {}
  },
  {
   "cell_type": "code",
   "execution_count": null,
   "source": [
    "df1 = pd.DataFrame.from_dict(data,orient='index',columns=['date','posts','followers','following'])\n",
    "df1.head()"
   ],
   "outputs": [],
   "metadata": {}
  },
  {
   "cell_type": "code",
   "execution_count": null,
   "source": [
    "path = Path(__name__).resolve().parents[0]\n",
    "\n",
    "if 'demo.csv' not in os.listdir(str(path)+'/data_repo'):\n",
    "    df1.to_csv('data_repo/demo.csv', header= True)\n",
    "else:\n",
    "    df1.to_csv('data_repo/demo.csv', header= False, mode= 'a')"
   ],
   "outputs": [],
   "metadata": {}
  }
 ]
}