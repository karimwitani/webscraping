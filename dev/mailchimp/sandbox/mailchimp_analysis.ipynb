{
 "cells": [
  {
   "cell_type": "code",
   "execution_count": 1,
   "metadata": {},
   "outputs": [],
   "source": [
    "import os\n",
    "from time import sleep\n",
    "import pandas as pd\n",
    "import csv\n",
    "from sqlalchemy import create_engine\n",
    "import sqlite3\n"
   ]
  },
  {
   "cell_type": "code",
   "execution_count": 3,
   "metadata": {},
   "outputs": [],
   "source": [
    "conn = sqlite3.connect('mailchimp.db')\n",
    "cursor = conn.cursor()"
   ]
  },
  {
   "cell_type": "code",
   "execution_count": 4,
   "metadata": {},
   "outputs": [],
   "source": [
    "sql = \"\"\"\n",
    "SELECT DISTINCT S.CAMPAIGN, \n",
    "    S.DATE, \n",
    "    COUNT(S.EMAIL)  AS SENT_COUNT,\n",
    "    COUNT(U.EMAIL)  AS UNOPEN_COUNT,\n",
    "    COUNT(O.EMAIL)  AS OPEN_COUNT,\n",
    "    COUNT(C.EMAIL)  AS CLICK_COUNT\n",
    "FROM SENT S\n",
    "LEFT JOIN OPEN O\n",
    "    ON S.EMAIL = O.EMAIL AND S.CAMPAIGN = O.CAMPAIGN\n",
    "LEFT JOIN CLICKED C\n",
    "    ON S.EMAIL = C.EMAIL AND S.CAMPAIGN = C.CAMPAIGN\n",
    "LEFT JOIN UNOPEN U\n",
    "    ON S.EMAIL = U.EMAIL AND S.CAMPAIGN = U.CAMPAIGN\n",
    "GROUP BY S.CAMPAIGN\n",
    "ORDER BY S.DATE DESC\n",
    "\"\"\""
   ]
  },
  {
   "cell_type": "code",
   "execution_count": 5,
   "metadata": {},
   "outputs": [
    {
     "data": {
      "text/html": [
       "<div>\n",
       "<style scoped>\n",
       "    .dataframe tbody tr th:only-of-type {\n",
       "        vertical-align: middle;\n",
       "    }\n",
       "\n",
       "    .dataframe tbody tr th {\n",
       "        vertical-align: top;\n",
       "    }\n",
       "\n",
       "    .dataframe thead th {\n",
       "        text-align: right;\n",
       "    }\n",
       "</style>\n",
       "<table border=\"1\" class=\"dataframe\">\n",
       "  <thead>\n",
       "    <tr style=\"text-align: right;\">\n",
       "      <th></th>\n",
       "      <th>CAMPAIGN</th>\n",
       "      <th>DATE</th>\n",
       "      <th>SENT_COUNT</th>\n",
       "      <th>UNOPEN_COUNT</th>\n",
       "      <th>OPEN_COUNT</th>\n",
       "      <th>CLICK_COUNT</th>\n",
       "    </tr>\n",
       "  </thead>\n",
       "  <tbody>\n",
       "    <tr>\n",
       "      <th>0</th>\n",
       "      <td>006 - 03- Pro-Consult Legal - Your Contacts: M...</td>\n",
       "      <td>2022-01-13 18:00:00.000000</td>\n",
       "      <td>564</td>\n",
       "      <td>538</td>\n",
       "      <td>26</td>\n",
       "      <td>0</td>\n",
       "    </tr>\n",
       "    <tr>\n",
       "      <th>1</th>\n",
       "      <td>006 - 02- Pro-Consult Legal - Your Contacts: M...</td>\n",
       "      <td>2022-01-10 12:30:00.000000</td>\n",
       "      <td>668</td>\n",
       "      <td>565</td>\n",
       "      <td>103</td>\n",
       "      <td>10</td>\n",
       "    </tr>\n",
       "    <tr>\n",
       "      <th>2</th>\n",
       "      <td>005 - 02 - Pro-Consult - Real Estate Campaign ...</td>\n",
       "      <td>2022-01-05 18:00:00.000000</td>\n",
       "      <td>673</td>\n",
       "      <td>443</td>\n",
       "      <td>230</td>\n",
       "      <td>14</td>\n",
       "    </tr>\n",
       "    <tr>\n",
       "      <th>3</th>\n",
       "      <td>006 - Pro-Consult Legal - Your Contacts: More ...</td>\n",
       "      <td>2022-01-02 17:45:00.000000</td>\n",
       "      <td>677</td>\n",
       "      <td>510</td>\n",
       "      <td>167</td>\n",
       "      <td>15</td>\n",
       "    </tr>\n",
       "    <tr>\n",
       "      <th>4</th>\n",
       "      <td>005 - Pro-Consult - Real Estate Campaign</td>\n",
       "      <td>2021-12-29 14:40:00.000000</td>\n",
       "      <td>206</td>\n",
       "      <td>108</td>\n",
       "      <td>98</td>\n",
       "      <td>1</td>\n",
       "    </tr>\n",
       "    <tr>\n",
       "      <th>5</th>\n",
       "      <td>004 - Pro-Consult - Real Estate Campaign</td>\n",
       "      <td>2021-12-27 18:49:00.000000</td>\n",
       "      <td>474</td>\n",
       "      <td>189</td>\n",
       "      <td>285</td>\n",
       "      <td>16</td>\n",
       "    </tr>\n",
       "  </tbody>\n",
       "</table>\n",
       "</div>"
      ],
      "text/plain": [
       "                                            CAMPAIGN  \\\n",
       "0  006 - 03- Pro-Consult Legal - Your Contacts: M...   \n",
       "1  006 - 02- Pro-Consult Legal - Your Contacts: M...   \n",
       "2  005 - 02 - Pro-Consult - Real Estate Campaign ...   \n",
       "3  006 - Pro-Consult Legal - Your Contacts: More ...   \n",
       "4           005 - Pro-Consult - Real Estate Campaign   \n",
       "5           004 - Pro-Consult - Real Estate Campaign   \n",
       "\n",
       "                         DATE  SENT_COUNT  UNOPEN_COUNT  OPEN_COUNT  \\\n",
       "0  2022-01-13 18:00:00.000000         564           538          26   \n",
       "1  2022-01-10 12:30:00.000000         668           565         103   \n",
       "2  2022-01-05 18:00:00.000000         673           443         230   \n",
       "3  2022-01-02 17:45:00.000000         677           510         167   \n",
       "4  2021-12-29 14:40:00.000000         206           108          98   \n",
       "5  2021-12-27 18:49:00.000000         474           189         285   \n",
       "\n",
       "   CLICK_COUNT  \n",
       "0            0  \n",
       "1           10  \n",
       "2           14  \n",
       "3           15  \n",
       "4            1  \n",
       "5           16  "
      ]
     },
     "execution_count": 5,
     "metadata": {},
     "output_type": "execute_result"
    }
   ],
   "source": [
    "query = pd.read_sql_query(sql, conn)\n",
    "query"
   ]
  },
  {
   "cell_type": "code",
   "execution_count": 6,
   "metadata": {},
   "outputs": [
    {
     "data": {
      "text/html": [
       "<div>\n",
       "<style scoped>\n",
       "    .dataframe tbody tr th:only-of-type {\n",
       "        vertical-align: middle;\n",
       "    }\n",
       "\n",
       "    .dataframe tbody tr th {\n",
       "        vertical-align: top;\n",
       "    }\n",
       "\n",
       "    .dataframe thead th {\n",
       "        text-align: right;\n",
       "    }\n",
       "</style>\n",
       "<table border=\"1\" class=\"dataframe\">\n",
       "  <thead>\n",
       "    <tr style=\"text-align: right;\">\n",
       "      <th></th>\n",
       "      <th>CAMPAIGN</th>\n",
       "      <th>DATE</th>\n",
       "      <th>SENT_COUNT</th>\n",
       "      <th>UNOPEN_COUNT</th>\n",
       "      <th>OPEN_COUNT</th>\n",
       "      <th>CLICK_COUNT</th>\n",
       "      <th>WEEKDAY</th>\n",
       "      <th>HOUR</th>\n",
       "      <th>OPEN_RATE</th>\n",
       "      <th>CAMPAIGN_CODE</th>\n",
       "    </tr>\n",
       "  </thead>\n",
       "  <tbody>\n",
       "    <tr>\n",
       "      <th>0</th>\n",
       "      <td>006 - 03- Pro-Consult Legal - Your Contacts: M...</td>\n",
       "      <td>2022-01-13 18:00:00.000000</td>\n",
       "      <td>564</td>\n",
       "      <td>538</td>\n",
       "      <td>26</td>\n",
       "      <td>0</td>\n",
       "      <td>Thursday</td>\n",
       "      <td>18</td>\n",
       "      <td>4.609929</td>\n",
       "      <td>006</td>\n",
       "    </tr>\n",
       "    <tr>\n",
       "      <th>1</th>\n",
       "      <td>006 - 02- Pro-Consult Legal - Your Contacts: M...</td>\n",
       "      <td>2022-01-10 12:30:00.000000</td>\n",
       "      <td>668</td>\n",
       "      <td>565</td>\n",
       "      <td>103</td>\n",
       "      <td>10</td>\n",
       "      <td>Monday</td>\n",
       "      <td>12</td>\n",
       "      <td>15.419162</td>\n",
       "      <td>006</td>\n",
       "    </tr>\n",
       "    <tr>\n",
       "      <th>2</th>\n",
       "      <td>005 - 02 - Pro-Consult - Real Estate Campaign ...</td>\n",
       "      <td>2022-01-05 18:00:00.000000</td>\n",
       "      <td>673</td>\n",
       "      <td>443</td>\n",
       "      <td>230</td>\n",
       "      <td>14</td>\n",
       "      <td>Wednesday</td>\n",
       "      <td>18</td>\n",
       "      <td>34.175334</td>\n",
       "      <td>005</td>\n",
       "    </tr>\n",
       "    <tr>\n",
       "      <th>3</th>\n",
       "      <td>006 - Pro-Consult Legal - Your Contacts: More ...</td>\n",
       "      <td>2022-01-02 17:45:00.000000</td>\n",
       "      <td>677</td>\n",
       "      <td>510</td>\n",
       "      <td>167</td>\n",
       "      <td>15</td>\n",
       "      <td>Sunday</td>\n",
       "      <td>17</td>\n",
       "      <td>24.667651</td>\n",
       "      <td>006</td>\n",
       "    </tr>\n",
       "    <tr>\n",
       "      <th>4</th>\n",
       "      <td>005 - Pro-Consult - Real Estate Campaign</td>\n",
       "      <td>2021-12-29 14:40:00.000000</td>\n",
       "      <td>206</td>\n",
       "      <td>108</td>\n",
       "      <td>98</td>\n",
       "      <td>1</td>\n",
       "      <td>Wednesday</td>\n",
       "      <td>14</td>\n",
       "      <td>47.572816</td>\n",
       "      <td>005</td>\n",
       "    </tr>\n",
       "    <tr>\n",
       "      <th>5</th>\n",
       "      <td>004 - Pro-Consult - Real Estate Campaign</td>\n",
       "      <td>2021-12-27 18:49:00.000000</td>\n",
       "      <td>474</td>\n",
       "      <td>189</td>\n",
       "      <td>285</td>\n",
       "      <td>16</td>\n",
       "      <td>Monday</td>\n",
       "      <td>18</td>\n",
       "      <td>60.126582</td>\n",
       "      <td>004</td>\n",
       "    </tr>\n",
       "  </tbody>\n",
       "</table>\n",
       "</div>"
      ],
      "text/plain": [
       "                                            CAMPAIGN  \\\n",
       "0  006 - 03- Pro-Consult Legal - Your Contacts: M...   \n",
       "1  006 - 02- Pro-Consult Legal - Your Contacts: M...   \n",
       "2  005 - 02 - Pro-Consult - Real Estate Campaign ...   \n",
       "3  006 - Pro-Consult Legal - Your Contacts: More ...   \n",
       "4           005 - Pro-Consult - Real Estate Campaign   \n",
       "5           004 - Pro-Consult - Real Estate Campaign   \n",
       "\n",
       "                         DATE  SENT_COUNT  UNOPEN_COUNT  OPEN_COUNT  \\\n",
       "0  2022-01-13 18:00:00.000000         564           538          26   \n",
       "1  2022-01-10 12:30:00.000000         668           565         103   \n",
       "2  2022-01-05 18:00:00.000000         673           443         230   \n",
       "3  2022-01-02 17:45:00.000000         677           510         167   \n",
       "4  2021-12-29 14:40:00.000000         206           108          98   \n",
       "5  2021-12-27 18:49:00.000000         474           189         285   \n",
       "\n",
       "   CLICK_COUNT    WEEKDAY  HOUR  OPEN_RATE CAMPAIGN_CODE  \n",
       "0            0   Thursday    18   4.609929           006  \n",
       "1           10     Monday    12  15.419162           006  \n",
       "2           14  Wednesday    18  34.175334           005  \n",
       "3           15     Sunday    17  24.667651           006  \n",
       "4            1  Wednesday    14  47.572816           005  \n",
       "5           16     Monday    18  60.126582           004  "
      ]
     },
     "execution_count": 6,
     "metadata": {},
     "output_type": "execute_result"
    }
   ],
   "source": [
    "#Data processing\n",
    "query['WEEKDAY'] = pd.to_datetime(query['DATE']).dt.day_name()\n",
    "query['HOUR'] = pd.to_datetime(query['DATE']).dt.hour\n",
    "query['OPEN_RATE'] = (query['OPEN_COUNT'] / query['SENT_COUNT'])*100\n",
    "query['CAMPAIGN_CODE'] = query['CAMPAIGN'].str[:3]\n",
    "query\n"
   ]
  },
  {
   "cell_type": "code",
   "execution_count": 7,
   "metadata": {},
   "outputs": [
    {
     "data": {
      "text/plain": [
       "WEEKDAY\n",
       "Wednesday    40.874075\n",
       "Monday       37.772872\n",
       "Sunday       24.667651\n",
       "Thursday      4.609929\n",
       "Name: OPEN_RATE, dtype: float64"
      ]
     },
     "execution_count": 7,
     "metadata": {},
     "output_type": "execute_result"
    }
   ],
   "source": [
    "#OPEN_RATE BY DAY OF WEEK\n",
    "query.groupby(['WEEKDAY']).mean()['OPEN_RATE'].sort_values(ascending=False)"
   ]
  },
  {
   "cell_type": "code",
   "execution_count": 8,
   "metadata": {},
   "outputs": [
    {
     "data": {
      "text/plain": [
       "WEEKDAY    HOUR\n",
       "Monday     18      60.126582\n",
       "Wednesday  14      47.572816\n",
       "           18      34.175334\n",
       "Sunday     17      24.667651\n",
       "Monday     12      15.419162\n",
       "Thursday   18       4.609929\n",
       "Name: OPEN_RATE, dtype: float64"
      ]
     },
     "execution_count": 8,
     "metadata": {},
     "output_type": "execute_result"
    }
   ],
   "source": [
    "#OPEN_RATE BY HOUR OF DAY\n",
    "query.groupby(['WEEKDAY','HOUR']).mean()['OPEN_RATE'].sort_values(ascending=False)"
   ]
  },
  {
   "cell_type": "code",
   "execution_count": 9,
   "metadata": {},
   "outputs": [
    {
     "data": {
      "text/plain": [
       "CAMPAIGN_CODE\n",
       "004    60.126582\n",
       "005    40.874075\n",
       "006    14.898914\n",
       "Name: OPEN_RATE, dtype: float64"
      ]
     },
     "execution_count": 9,
     "metadata": {},
     "output_type": "execute_result"
    }
   ],
   "source": [
    "#OPEN_RATE BY CAMPAIGN CODE\n",
    "query.groupby(['CAMPAIGN_CODE']).mean()['OPEN_RATE']"
   ]
  },
  {
   "cell_type": "code",
   "execution_count": 140,
   "metadata": {},
   "outputs": [
    {
     "data": {
      "text/plain": [
       "WEEKDAY    HOUR  CAMPAIGN_CODE\n",
       "Monday     18    004              60.126582\n",
       "Wednesday  14    005              47.572816\n",
       "           18    005              34.175334\n",
       "Sunday     17    006              24.667651\n",
       "Monday     12    006              15.419162\n",
       "Thursday   18    006               4.609929\n",
       "Name: OPEN_RATE, dtype: float64"
      ]
     },
     "execution_count": 140,
     "metadata": {},
     "output_type": "execute_result"
    }
   ],
   "source": [
    "#OPEN RATE BY TIME AND CAMPAING\n",
    "query.groupby(['WEEKDAY','HOUR','CAMPAIGN_CODE']).mean()['OPEN_RATE'].sort_values(ascending=False)"
   ]
  },
  {
   "cell_type": "code",
   "execution_count": null,
   "metadata": {},
   "outputs": [],
   "source": []
  }
 ],
 "metadata": {
  "interpreter": {
   "hash": "e534e48711db4d1e1c48977d0d14ff85b1f16d41bcc4fdfd88268a329b3c9d66"
  },
  "kernelspec": {
   "display_name": "Python 3.7.9 64-bit",
   "language": "python",
   "name": "python3"
  },
  "language_info": {
   "codemirror_mode": {
    "name": "ipython",
    "version": 3
   },
   "file_extension": ".py",
   "mimetype": "text/x-python",
   "name": "python",
   "nbconvert_exporter": "python",
   "pygments_lexer": "ipython3",
   "version": "3.7.9"
  },
  "orig_nbformat": 4
 },
 "nbformat": 4,
 "nbformat_minor": 2
}
